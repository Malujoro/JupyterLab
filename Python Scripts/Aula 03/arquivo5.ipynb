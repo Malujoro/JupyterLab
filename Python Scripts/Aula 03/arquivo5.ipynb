{
 "cells": [
  {
   "cell_type": "code",
   "execution_count": 1,
   "id": "93b479e1-0646-4cd1-aa40-a7319f536a41",
   "metadata": {},
   "outputs": [],
   "source": [
    "import numpy as np"
   ]
  },
  {
   "cell_type": "code",
   "execution_count": 3,
   "id": "916ac0ec-0c90-476c-91c8-92e25babbed2",
   "metadata": {},
   "outputs": [],
   "source": [
    "matriz = np.arange(0, 100)"
   ]
  },
  {
   "cell_type": "code",
   "execution_count": 5,
   "id": "4dc9b8a9-e472-4bba-b75c-2bdcdc502dc9",
   "metadata": {},
   "outputs": [
    {
     "data": {
      "text/plain": [
       "array([ 0,  1,  2,  3,  4,  5,  6,  7,  8,  9, 10, 11, 12, 13, 14, 15, 16,\n",
       "       17, 18, 19, 20, 21, 22, 23, 24, 25, 26, 27, 28, 29, 30, 31, 32, 33,\n",
       "       34, 35, 36, 37, 38, 39, 40, 41, 42, 43, 44, 45, 46, 47, 48, 49, 50,\n",
       "       51, 52, 53, 54, 55, 56, 57, 58, 59, 60, 61, 62, 63, 64, 65, 66, 67,\n",
       "       68, 69, 70, 71, 72, 73, 74, 75, 76, 77, 78, 79, 80, 81, 82, 83, 84,\n",
       "       85, 86, 87, 88, 89, 90, 91, 92, 93, 94, 95, 96, 97, 98, 99])"
      ]
     },
     "execution_count": 5,
     "metadata": {},
     "output_type": "execute_result"
    }
   ],
   "source": [
    "matriz"
   ]
  },
  {
   "cell_type": "code",
   "execution_count": 13,
   "id": "d0614519-1747-45c5-a274-5a655983f2a1",
   "metadata": {},
   "outputs": [],
   "source": [
    "matriz = matriz.reshape(10, 10)"
   ]
  },
  {
   "cell_type": "code",
   "execution_count": 18,
   "id": "96e95e33-9180-47d8-b01c-23b7866e1450",
   "metadata": {},
   "outputs": [],
   "source": [
    "linha = 0"
   ]
  },
  {
   "cell_type": "code",
   "execution_count": 19,
   "id": "edef5bc1-0995-4314-8f12-11e96c8dbcb4",
   "metadata": {},
   "outputs": [],
   "source": [
    "coluna = 1"
   ]
  },
  {
   "cell_type": "code",
   "execution_count": 20,
   "id": "f9a2766f-9416-4850-96e7-e4be546018bd",
   "metadata": {},
   "outputs": [
    {
     "data": {
      "text/plain": [
       "1"
      ]
     },
     "execution_count": 20,
     "metadata": {},
     "output_type": "execute_result"
    }
   ],
   "source": [
    "matriz[linha, coluna]"
   ]
  }
 ],
 "metadata": {
  "kernelspec": {
   "display_name": "Python 3 (ipykernel)",
   "language": "python",
   "name": "python3"
  },
  "language_info": {
   "codemirror_mode": {
    "name": "ipython",
    "version": 3
   },
   "file_extension": ".py",
   "mimetype": "text/x-python",
   "name": "python",
   "nbconvert_exporter": "python",
   "pygments_lexer": "ipython3",
   "version": "3.12.4"
  }
 },
 "nbformat": 4,
 "nbformat_minor": 5
}
