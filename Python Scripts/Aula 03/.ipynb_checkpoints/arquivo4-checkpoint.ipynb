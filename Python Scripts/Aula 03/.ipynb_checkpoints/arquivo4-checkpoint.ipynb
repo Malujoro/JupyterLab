{
 "cells": [
  {
   "cell_type": "code",
   "execution_count": 5,
   "id": "668d01e9-0303-4f58-8550-3d8f4f01c478",
   "metadata": {},
   "outputs": [],
   "source": [
    "import numpy as np"
   ]
  },
  {
   "cell_type": "code",
   "execution_count": 6,
   "id": "36b0552b-5b80-4289-86cf-97f5321e1b94",
   "metadata": {},
   "outputs": [],
   "source": [
    "np.random.seed(101)\n",
    "vetor = np.random.randint(0, 100, 10)"
   ]
  },
  {
   "cell_type": "code",
   "execution_count": 7,
   "id": "3d4b71a4-3f85-4894-bcd7-88a93f48b3a2",
   "metadata": {},
   "outputs": [
    {
     "data": {
      "text/plain": [
       "(10,)"
      ]
     },
     "execution_count": 7,
     "metadata": {},
     "output_type": "execute_result"
    }
   ],
   "source": [
    "# Diz o formato do array\n",
    "vetor.shape"
   ]
  },
  {
   "cell_type": "code",
   "execution_count": 9,
   "id": "0b9e227d-62af-4774-b793-514bccc57824",
   "metadata": {},
   "outputs": [
    {
     "data": {
      "text/plain": [
       "array([95, 11, 81, 70, 63, 87, 75,  9, 77, 40])"
      ]
     },
     "execution_count": 9,
     "metadata": {},
     "output_type": "execute_result"
    }
   ],
   "source": [
    "vetor"
   ]
  },
  {
   "cell_type": "code",
   "execution_count": 10,
   "id": "311065be-bca6-4c98-bf0e-de05783d5f05",
   "metadata": {},
   "outputs": [
    {
     "data": {
      "text/plain": [
       "array([[95, 11, 81, 70, 63],\n",
       "       [87, 75,  9, 77, 40]])"
      ]
     },
     "execution_count": 10,
     "metadata": {},
     "output_type": "execute_result"
    }
   ],
   "source": [
    "# Troca o formato do array, reorganizando ele\n",
    "vetor.reshape((2, 5))"
   ]
  }
 ],
 "metadata": {
  "kernelspec": {
   "display_name": "Python 3 (ipykernel)",
   "language": "python",
   "name": "python3"
  },
  "language_info": {
   "codemirror_mode": {
    "name": "ipython",
    "version": 3
   },
   "file_extension": ".py",
   "mimetype": "text/x-python",
   "name": "python",
   "nbconvert_exporter": "python",
   "pygments_lexer": "ipython3",
   "version": "3.12.4"
  }
 },
 "nbformat": 4,
 "nbformat_minor": 5
}
