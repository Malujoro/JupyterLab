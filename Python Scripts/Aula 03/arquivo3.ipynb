{
 "cells": [
  {
   "cell_type": "code",
   "execution_count": 1,
   "id": "023e39b6-a268-4a0b-b7a4-a3ac5aab6f6e",
   "metadata": {},
   "outputs": [],
   "source": [
    "import numpy as np"
   ]
  },
  {
   "cell_type": "code",
   "execution_count": 2,
   "id": "1b649753-29b6-4b17-bdde-81f75669402a",
   "metadata": {},
   "outputs": [],
   "source": [
    "vetor = np.random.randint(0, 200, 10)"
   ]
  },
  {
   "cell_type": "code",
   "execution_count": 4,
   "id": "ce367016-40f6-4243-a914-53d109c9b3e4",
   "metadata": {},
   "outputs": [
    {
     "data": {
      "text/plain": [
       "array([190, 191, 164, 135,  45,  79,  79, 113, 192, 124])"
      ]
     },
     "execution_count": 4,
     "metadata": {},
     "output_type": "execute_result"
    }
   ],
   "source": [
    "vetor"
   ]
  },
  {
   "cell_type": "code",
   "execution_count": 7,
   "id": "a5208355-1a73-47a0-afbe-2e57357c7a02",
   "metadata": {},
   "outputs": [
    {
     "data": {
      "text/plain": [
       "192"
      ]
     },
     "execution_count": 7,
     "metadata": {},
     "output_type": "execute_result"
    }
   ],
   "source": [
    "# Retorna o maior valor\n",
    "vetor.max()"
   ]
  },
  {
   "cell_type": "code",
   "execution_count": 10,
   "id": "acfbc324-ce4e-40aa-be28-4a8567f671e9",
   "metadata": {},
   "outputs": [
    {
     "data": {
      "text/plain": [
       "8"
      ]
     },
     "execution_count": 10,
     "metadata": {},
     "output_type": "execute_result"
    }
   ],
   "source": [
    "# Retorna a posição do maior valor\n",
    "vetor.argmax()"
   ]
  },
  {
   "cell_type": "code",
   "execution_count": 17,
   "id": "79871b0d-8d1a-45ab-b411-aa16100d0257",
   "metadata": {},
   "outputs": [
    {
     "data": {
      "text/plain": [
       "45"
      ]
     },
     "execution_count": 17,
     "metadata": {},
     "output_type": "execute_result"
    }
   ],
   "source": [
    "# Retorna o menor valor\n",
    "vetor.min()"
   ]
  },
  {
   "cell_type": "code",
   "execution_count": 19,
   "id": "35daabb6-ec95-4660-9ec0-07acb206bdd1",
   "metadata": {},
   "outputs": [
    {
     "data": {
      "text/plain": [
       "4"
      ]
     },
     "execution_count": 19,
     "metadata": {},
     "output_type": "execute_result"
    }
   ],
   "source": [
    "# Retorna a posição do menor valor\n",
    "vetor.argmin()"
   ]
  },
  {
   "cell_type": "code",
   "execution_count": 20,
   "id": "bca42345-87d4-4303-bf68-7d685fc04d50",
   "metadata": {},
   "outputs": [
    {
     "data": {
      "text/plain": [
       "131.2"
      ]
     },
     "execution_count": 20,
     "metadata": {},
     "output_type": "execute_result"
    }
   ],
   "source": [
    "# Calcula a média do vetor\n",
    "vetor.mean()"
   ]
  }
 ],
 "metadata": {
  "kernelspec": {
   "display_name": "Python 3 (ipykernel)",
   "language": "python",
   "name": "python3"
  },
  "language_info": {
   "codemirror_mode": {
    "name": "ipython",
    "version": 3
   },
   "file_extension": ".py",
   "mimetype": "text/x-python",
   "name": "python",
   "nbconvert_exporter": "python",
   "pygments_lexer": "ipython3",
   "version": "3.12.4"
  }
 },
 "nbformat": 4,
 "nbformat_minor": 5
}
