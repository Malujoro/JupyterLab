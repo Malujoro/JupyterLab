{
 "cells": [
  {
   "cell_type": "code",
   "execution_count": 1,
   "id": "419acea8-6568-4097-ab5e-d2cd0e54619e",
   "metadata": {},
   "outputs": [],
   "source": [
    "import numpy as np"
   ]
  },
  {
   "cell_type": "code",
   "execution_count": 2,
   "id": "c3d89cc4-79af-4710-9e9a-adcad8ef8353",
   "metadata": {},
   "outputs": [],
   "source": [
    "vetor = [1, 5, 9]"
   ]
  },
  {
   "cell_type": "code",
   "execution_count": 3,
   "id": "168afdcc-bf1a-4f7e-ae2c-ffe15aa5c441",
   "metadata": {},
   "outputs": [
    {
     "data": {
      "text/plain": [
       "list"
      ]
     },
     "execution_count": 3,
     "metadata": {},
     "output_type": "execute_result"
    }
   ],
   "source": [
    "# Exibe o tipo\n",
    "type(vetor)"
   ]
  },
  {
   "cell_type": "code",
   "execution_count": 6,
   "id": "f78bee4b-e504-401d-af5b-9ed911c727c2",
   "metadata": {},
   "outputs": [],
   "source": [
    "# Cria um ndarray\n",
    "meuVetor = np.array(vetor)t"
   ]
  },
  {
   "cell_type": "code",
   "execution_count": 7,
   "id": "c8952fdb-34b4-45a2-ad9d-67c01d1b4216",
   "metadata": {},
   "outputs": [
    {
     "data": {
      "text/plain": [
       "array([1, 5, 9])"
      ]
     },
     "execution_count": 7,
     "metadata": {},
     "output_type": "execute_result"
    }
   ],
   "source": [
    "meuVetor"
   ]
  },
  {
   "cell_type": "code",
   "execution_count": 8,
   "id": "e93c99c4-61bd-4e3a-8af4-6d803d86fc84",
   "metadata": {},
   "outputs": [
    {
     "data": {
      "text/plain": [
       "numpy.ndarray"
      ]
     },
     "execution_count": 8,
     "metadata": {},
     "output_type": "execute_result"
    }
   ],
   "source": [
    "type(meuVetor)"
   ]
  },
  {
   "cell_type": "code",
   "execution_count": 14,
   "id": "d073b14e-803b-40f2-8b7c-4a056a0d93bb",
   "metadata": {},
   "outputs": [
    {
     "data": {
      "text/plain": [
       "array([ 1,  3,  5,  7,  9, 11, 13, 15, 17, 19])"
      ]
     },
     "execution_count": 14,
     "metadata": {},
     "output_type": "execute_result"
    }
   ],
   "source": [
    "# Permite criar um conjunto de valores dentro de um intervalo (semelhante ao range do for)\n",
    "np.arange(1, 20, 2)"
   ]
  },
  {
   "cell_type": "code",
   "execution_count": 15,
   "id": "427220cb-331f-4e56-bbc1-6ea6bfdab0ad",
   "metadata": {},
   "outputs": [
    {
     "data": {
      "text/plain": [
       "array([[0., 0., 0.],\n",
       "       [0., 0., 0.],\n",
       "       [0., 0., 0.],\n",
       "       [0., 0., 0.]])"
      ]
     },
     "execution_count": 15,
     "metadata": {},
     "output_type": "execute_result"
    }
   ],
   "source": [
    "# Cria matrizes preenchidas por 0\n",
    "np.zeros(shape=(4,3))"
   ]
  },
  {
   "cell_type": "code",
   "execution_count": 19,
   "id": "b7b99773-c473-48c1-b205-395fc12fc802",
   "metadata": {},
   "outputs": [
    {
     "data": {
      "text/plain": [
       "array([[1., 1., 1.],\n",
       "       [1., 1., 1.],\n",
       "       [1., 1., 1.],\n",
       "       [1., 1., 1.],\n",
       "       [1., 1., 1.]])"
      ]
     },
     "execution_count": 19,
     "metadata": {},
     "output_type": "execute_result"
    }
   ],
   "source": [
    "# Cria matrizes preenchidas por 1\n",
    "np.ones((5,5))"
   ]
  }
 ],
 "metadata": {
  "kernelspec": {
   "display_name": "Python 3 (ipykernel)",
   "language": "python",
   "name": "python3"
  },
  "language_info": {
   "codemirror_mode": {
    "name": "ipython",
    "version": 3
   },
   "file_extension": ".py",
   "mimetype": "text/x-python",
   "name": "python",
   "nbconvert_exporter": "python",
   "pygments_lexer": "ipython3",
   "version": "3.12.4"
  }
 },
 "nbformat": 4,
 "nbformat_minor": 5
}
