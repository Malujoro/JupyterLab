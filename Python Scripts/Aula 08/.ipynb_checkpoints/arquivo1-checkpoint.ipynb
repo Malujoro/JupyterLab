{
 "cells": [
  {
   "cell_type": "code",
   "execution_count": null,
   "id": "81b179ba-3392-4cbd-b734-4097b8292a8d",
   "metadata": {},
   "outputs": [],
   "source": []
  }
 ],
 "metadata": {
  "kernelspec": {
   "display_name": "Python 3 (ipykernel)",
   "language": "python",
   "name": "python3"
  },
  "language_info": {
   "codemirror_mode": {
    "name": "ipython",
    "version": 3
   },
   "file_extension": ".py",
   "mimetype": "text/x-python",
   "name": "python",
   "nbconvert_exporter": "python",
   "pygments_lexer": "ipython3",
   "version": "3.12.4"
  }
 },
 "nbformat": 4,
 "nbformat_minor": 5
}
